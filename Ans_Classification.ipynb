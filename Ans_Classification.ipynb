{
 "cells": [
  {
   "cell_type": "code",
   "execution_count": 1,
   "id": "1d976f20",
   "metadata": {},
   "outputs": [],
   "source": [
    "import pandas as pd\n",
    "from sklearn.neighbors import KNeighborsClassifier\n",
    "from sklearn.metrics import accuracy_score\n",
    "import matplotlib.pyplot as plt\n",
    "import numpy as np\n",
    "from matplotlib.pylab import rcParams\n",
    "rcParams['figure.figsize'] = 20, 10\n"
   ]
  },
  {
   "cell_type": "code",
   "execution_count": 2,
   "id": "b363a406",
   "metadata": {},
   "outputs": [],
   "source": [
    "sql= \"select * from acc_ord_card_disp_client_dist aocdcd join loan_trans lt on lt.account_id= aocdcd.account_id\" "
   ]
  },
  {
   "cell_type": "code",
   "execution_count": 3,
   "id": "ab24681f",
   "metadata": {},
   "outputs": [
    {
     "name": "stderr",
     "output_type": "stream",
     "text": [
      "C:\\ProgramData\\Anaconda3\\lib\\site-packages\\pandas\\io\\sql.py:762: UserWarning: pandas only support SQLAlchemy connectable(engine/connection) ordatabase string URI or sqlite3 DBAPI2 connectionother DBAPI2 objects are not tested, please consider using SQLAlchemy\n",
      "  warnings.warn(\n"
     ]
    }
   ],
   "source": [
    "import mysql.connector as connection\n",
    "try:\n",
    "    mydb = connection.connect(host=\"localhost\", database = 'capstone_prj',user=\"root\", passwd=\"Bangalore\",use_pure=True)\n",
    "    df = pd.read_sql(sql,mydb)\n",
    "    mydb.close() #close the connection\n",
    "except Exception as e:\n",
    "    mydb.close()\n",
    "    print(str(e))\n"
   ]
  },
  {
   "cell_type": "code",
   "execution_count": 4,
   "id": "8fa8bfe3",
   "metadata": {},
   "outputs": [
    {
     "data": {
      "text/html": [
       "<div>\n",
       "<style scoped>\n",
       "    .dataframe tbody tr th:only-of-type {\n",
       "        vertical-align: middle;\n",
       "    }\n",
       "\n",
       "    .dataframe tbody tr th {\n",
       "        vertical-align: top;\n",
       "    }\n",
       "\n",
       "    .dataframe thead th {\n",
       "        text-align: right;\n",
       "    }\n",
       "</style>\n",
       "<table border=\"1\" class=\"dataframe\">\n",
       "  <thead>\n",
       "    <tr style=\"text-align: right;\">\n",
       "      <th></th>\n",
       "      <th>card_id</th>\n",
       "      <th>disp_id</th>\n",
       "      <th>type</th>\n",
       "      <th>issued</th>\n",
       "      <th>account_id</th>\n",
       "      <th>disposition_client_id</th>\n",
       "      <th>disposition_type</th>\n",
       "      <th>client_id</th>\n",
       "      <th>birth_number</th>\n",
       "      <th>district_id</th>\n",
       "      <th>...</th>\n",
       "      <th>balance</th>\n",
       "      <th>k_symbol</th>\n",
       "      <th>bank</th>\n",
       "      <th>account</th>\n",
       "      <th>loan_id</th>\n",
       "      <th>loan_date</th>\n",
       "      <th>loan_amount</th>\n",
       "      <th>duration</th>\n",
       "      <th>payments</th>\n",
       "      <th>status</th>\n",
       "    </tr>\n",
       "  </thead>\n",
       "  <tbody>\n",
       "    <tr>\n",
       "      <th>0</th>\n",
       "      <td>352</td>\n",
       "      <td>2235</td>\n",
       "      <td>classic</td>\n",
       "      <td>980911 00:00:00</td>\n",
       "      <td>1843</td>\n",
       "      <td>2235</td>\n",
       "      <td>OWNER</td>\n",
       "      <td>2235</td>\n",
       "      <td>405420</td>\n",
       "      <td>14</td>\n",
       "      <td>...</td>\n",
       "      <td>19916.6</td>\n",
       "      <td>UROK</td>\n",
       "      <td></td>\n",
       "      <td></td>\n",
       "      <td>5325</td>\n",
       "      <td>930803</td>\n",
       "      <td>105804</td>\n",
       "      <td>36</td>\n",
       "      <td>2939.0</td>\n",
       "      <td>A</td>\n",
       "    </tr>\n",
       "    <tr>\n",
       "      <th>1</th>\n",
       "      <td>352</td>\n",
       "      <td>2235</td>\n",
       "      <td>classic</td>\n",
       "      <td>980911 00:00:00</td>\n",
       "      <td>1843</td>\n",
       "      <td>2235</td>\n",
       "      <td>OWNER</td>\n",
       "      <td>2235</td>\n",
       "      <td>405420</td>\n",
       "      <td>14</td>\n",
       "      <td>...</td>\n",
       "      <td>26099.1</td>\n",
       "      <td></td>\n",
       "      <td></td>\n",
       "      <td></td>\n",
       "      <td>5325</td>\n",
       "      <td>930803</td>\n",
       "      <td>105804</td>\n",
       "      <td>36</td>\n",
       "      <td>2939.0</td>\n",
       "      <td>A</td>\n",
       "    </tr>\n",
       "    <tr>\n",
       "      <th>2</th>\n",
       "      <td>352</td>\n",
       "      <td>2235</td>\n",
       "      <td>classic</td>\n",
       "      <td>980911 00:00:00</td>\n",
       "      <td>1843</td>\n",
       "      <td>2235</td>\n",
       "      <td>OWNER</td>\n",
       "      <td>2235</td>\n",
       "      <td>405420</td>\n",
       "      <td>14</td>\n",
       "      <td>...</td>\n",
       "      <td>19799.1</td>\n",
       "      <td></td>\n",
       "      <td></td>\n",
       "      <td></td>\n",
       "      <td>5325</td>\n",
       "      <td>930803</td>\n",
       "      <td>105804</td>\n",
       "      <td>36</td>\n",
       "      <td>2939.0</td>\n",
       "      <td>A</td>\n",
       "    </tr>\n",
       "    <tr>\n",
       "      <th>3</th>\n",
       "      <td>352</td>\n",
       "      <td>2235</td>\n",
       "      <td>classic</td>\n",
       "      <td>980911 00:00:00</td>\n",
       "      <td>1843</td>\n",
       "      <td>2235</td>\n",
       "      <td>OWNER</td>\n",
       "      <td>2235</td>\n",
       "      <td>405420</td>\n",
       "      <td>14</td>\n",
       "      <td>...</td>\n",
       "      <td>24499.1</td>\n",
       "      <td>SIPO</td>\n",
       "      <td>QR</td>\n",
       "      <td>62958741</td>\n",
       "      <td>5325</td>\n",
       "      <td>930803</td>\n",
       "      <td>105804</td>\n",
       "      <td>36</td>\n",
       "      <td>2939.0</td>\n",
       "      <td>A</td>\n",
       "    </tr>\n",
       "    <tr>\n",
       "      <th>4</th>\n",
       "      <td>352</td>\n",
       "      <td>2235</td>\n",
       "      <td>classic</td>\n",
       "      <td>980911 00:00:00</td>\n",
       "      <td>1843</td>\n",
       "      <td>2235</td>\n",
       "      <td>OWNER</td>\n",
       "      <td>2235</td>\n",
       "      <td>405420</td>\n",
       "      <td>14</td>\n",
       "      <td>...</td>\n",
       "      <td>31493.1</td>\n",
       "      <td>UVER</td>\n",
       "      <td>QR</td>\n",
       "      <td>70984434</td>\n",
       "      <td>5325</td>\n",
       "      <td>930803</td>\n",
       "      <td>105804</td>\n",
       "      <td>36</td>\n",
       "      <td>2939.0</td>\n",
       "      <td>A</td>\n",
       "    </tr>\n",
       "    <tr>\n",
       "      <th>...</th>\n",
       "      <td>...</td>\n",
       "      <td>...</td>\n",
       "      <td>...</td>\n",
       "      <td>...</td>\n",
       "      <td>...</td>\n",
       "      <td>...</td>\n",
       "      <td>...</td>\n",
       "      <td>...</td>\n",
       "      <td>...</td>\n",
       "      <td>...</td>\n",
       "      <td>...</td>\n",
       "      <td>...</td>\n",
       "      <td>...</td>\n",
       "      <td>...</td>\n",
       "      <td>...</td>\n",
       "      <td>...</td>\n",
       "      <td>...</td>\n",
       "      <td>...</td>\n",
       "      <td>...</td>\n",
       "      <td>...</td>\n",
       "      <td>...</td>\n",
       "    </tr>\n",
       "    <tr>\n",
       "      <th>863</th>\n",
       "      <td>1036</td>\n",
       "      <td>9735</td>\n",
       "      <td>classic</td>\n",
       "      <td>970117 00:00:00</td>\n",
       "      <td>8129</td>\n",
       "      <td>10043</td>\n",
       "      <td>OWNER</td>\n",
       "      <td>10043</td>\n",
       "      <td>651029</td>\n",
       "      <td>45</td>\n",
       "      <td>...</td>\n",
       "      <td>700.0</td>\n",
       "      <td></td>\n",
       "      <td></td>\n",
       "      <td></td>\n",
       "      <td>6668</td>\n",
       "      <td>940730</td>\n",
       "      <td>74736</td>\n",
       "      <td>36</td>\n",
       "      <td>2076.0</td>\n",
       "      <td>A</td>\n",
       "    </tr>\n",
       "    <tr>\n",
       "      <th>864</th>\n",
       "      <td>1038</td>\n",
       "      <td>9787</td>\n",
       "      <td>junior</td>\n",
       "      <td>950330 00:00:00</td>\n",
       "      <td>8173</td>\n",
       "      <td>10095</td>\n",
       "      <td>OWNER</td>\n",
       "      <td>10095</td>\n",
       "      <td>765206</td>\n",
       "      <td>1</td>\n",
       "      <td>...</td>\n",
       "      <td>54840.0</td>\n",
       "      <td></td>\n",
       "      <td>GH</td>\n",
       "      <td>84269058</td>\n",
       "      <td>6678</td>\n",
       "      <td>940520</td>\n",
       "      <td>80340</td>\n",
       "      <td>12</td>\n",
       "      <td>6695.0</td>\n",
       "      <td>A</td>\n",
       "    </tr>\n",
       "    <tr>\n",
       "      <th>865</th>\n",
       "      <td>1038</td>\n",
       "      <td>9787</td>\n",
       "      <td>junior</td>\n",
       "      <td>950330 00:00:00</td>\n",
       "      <td>8173</td>\n",
       "      <td>10095</td>\n",
       "      <td>OWNER</td>\n",
       "      <td>10095</td>\n",
       "      <td>765206</td>\n",
       "      <td>1</td>\n",
       "      <td>...</td>\n",
       "      <td>14000.0</td>\n",
       "      <td></td>\n",
       "      <td></td>\n",
       "      <td></td>\n",
       "      <td>6678</td>\n",
       "      <td>940520</td>\n",
       "      <td>80340</td>\n",
       "      <td>12</td>\n",
       "      <td>6695.0</td>\n",
       "      <td>A</td>\n",
       "    </tr>\n",
       "    <tr>\n",
       "      <th>866</th>\n",
       "      <td>1038</td>\n",
       "      <td>9787</td>\n",
       "      <td>junior</td>\n",
       "      <td>950330 00:00:00</td>\n",
       "      <td>8173</td>\n",
       "      <td>10095</td>\n",
       "      <td>OWNER</td>\n",
       "      <td>10095</td>\n",
       "      <td>765206</td>\n",
       "      <td>1</td>\n",
       "      <td>...</td>\n",
       "      <td>1100.0</td>\n",
       "      <td></td>\n",
       "      <td></td>\n",
       "      <td></td>\n",
       "      <td>6678</td>\n",
       "      <td>940520</td>\n",
       "      <td>80340</td>\n",
       "      <td>12</td>\n",
       "      <td>6695.0</td>\n",
       "      <td>A</td>\n",
       "    </tr>\n",
       "    <tr>\n",
       "      <th>867</th>\n",
       "      <td>884</td>\n",
       "      <td>7286</td>\n",
       "      <td>gold</td>\n",
       "      <td>970731 00:00:00</td>\n",
       "      <td>6030</td>\n",
       "      <td>7286</td>\n",
       "      <td>OWNER</td>\n",
       "      <td>7286</td>\n",
       "      <td>705210</td>\n",
       "      <td>47</td>\n",
       "      <td>...</td>\n",
       "      <td>400.0</td>\n",
       "      <td></td>\n",
       "      <td></td>\n",
       "      <td></td>\n",
       "      <td>6227</td>\n",
       "      <td>950304</td>\n",
       "      <td>28248</td>\n",
       "      <td>24</td>\n",
       "      <td>1177.0</td>\n",
       "      <td>A</td>\n",
       "    </tr>\n",
       "  </tbody>\n",
       "</table>\n",
       "<p>868 rows × 50 columns</p>\n",
       "</div>"
      ],
      "text/plain": [
       "     card_id  disp_id     type           issued  account_id  \\\n",
       "0        352     2235  classic  980911 00:00:00        1843   \n",
       "1        352     2235  classic  980911 00:00:00        1843   \n",
       "2        352     2235  classic  980911 00:00:00        1843   \n",
       "3        352     2235  classic  980911 00:00:00        1843   \n",
       "4        352     2235  classic  980911 00:00:00        1843   \n",
       "..       ...      ...      ...              ...         ...   \n",
       "863     1036     9735  classic  970117 00:00:00        8129   \n",
       "864     1038     9787   junior  950330 00:00:00        8173   \n",
       "865     1038     9787   junior  950330 00:00:00        8173   \n",
       "866     1038     9787   junior  950330 00:00:00        8173   \n",
       "867      884     7286     gold  970731 00:00:00        6030   \n",
       "\n",
       "     disposition_client_id disposition_type  client_id  birth_number  \\\n",
       "0                     2235            OWNER       2235        405420   \n",
       "1                     2235            OWNER       2235        405420   \n",
       "2                     2235            OWNER       2235        405420   \n",
       "3                     2235            OWNER       2235        405420   \n",
       "4                     2235            OWNER       2235        405420   \n",
       "..                     ...              ...        ...           ...   \n",
       "863                  10043            OWNER      10043        651029   \n",
       "864                  10095            OWNER      10095        765206   \n",
       "865                  10095            OWNER      10095        765206   \n",
       "866                  10095            OWNER      10095        765206   \n",
       "867                   7286            OWNER       7286        705210   \n",
       "\n",
       "     district_id  ...  balance k_symbol bank   account  loan_id  loan_date  \\\n",
       "0             14  ...  19916.6     UROK                    5325     930803   \n",
       "1             14  ...  26099.1                             5325     930803   \n",
       "2             14  ...  19799.1                             5325     930803   \n",
       "3             14  ...  24499.1     SIPO   QR  62958741     5325     930803   \n",
       "4             14  ...  31493.1     UVER   QR  70984434     5325     930803   \n",
       "..           ...  ...      ...      ...  ...       ...      ...        ...   \n",
       "863           45  ...    700.0                             6668     940730   \n",
       "864            1  ...  54840.0            GH  84269058     6678     940520   \n",
       "865            1  ...  14000.0                             6678     940520   \n",
       "866            1  ...   1100.0                             6678     940520   \n",
       "867           47  ...    400.0                             6227     950304   \n",
       "\n",
       "     loan_amount  duration  payments  status  \n",
       "0         105804        36    2939.0       A  \n",
       "1         105804        36    2939.0       A  \n",
       "2         105804        36    2939.0       A  \n",
       "3         105804        36    2939.0       A  \n",
       "4         105804        36    2939.0       A  \n",
       "..           ...       ...       ...     ...  \n",
       "863        74736        36    2076.0       A  \n",
       "864        80340        12    6695.0       A  \n",
       "865        80340        12    6695.0       A  \n",
       "866        80340        12    6695.0       A  \n",
       "867        28248        24    1177.0       A  \n",
       "\n",
       "[868 rows x 50 columns]"
      ]
     },
     "metadata": {},
     "output_type": "display_data"
    }
   ],
   "source": [
    "display (df)"
   ]
  },
  {
   "cell_type": "code",
   "execution_count": 5,
   "id": "0663376e",
   "metadata": {},
   "outputs": [
    {
     "data": {
      "text/plain": [
       "(868, 50)"
      ]
     },
     "metadata": {},
     "output_type": "display_data"
    }
   ],
   "source": [
    "display (df.shape)"
   ]
  },
  {
   "cell_type": "code",
   "execution_count": 6,
   "id": "b4176191",
   "metadata": {},
   "outputs": [
    {
     "data": {
      "text/plain": [
       "Index(['card_id', 'disp_id', 'type', 'issued', 'account_id',\n",
       "       'disposition_client_id', 'disposition_type', 'client_id',\n",
       "       'birth_number', 'district_id', 'A1', 'A2', 'A3', 'A4', 'A5', 'A6', 'A7',\n",
       "       'A8', 'A9', 'A10', 'A11', 'A12', 'A13', 'A14', 'A15', 'A16', 'order_id',\n",
       "       'bank_to', 'account_to', 'amount', 'k_symbol', 'account_date',\n",
       "       'account_district_id', 'frequency', 'trans_id', 'account_id', 'date',\n",
       "       'type', 'operation', 'amount', 'balance', 'k_symbol', 'bank', 'account',\n",
       "       'loan_id', 'loan_date', 'loan_amount', 'duration', 'payments',\n",
       "       'status'],\n",
       "      dtype='object')"
      ]
     },
     "execution_count": 6,
     "metadata": {},
     "output_type": "execute_result"
    }
   ],
   "source": [
    "df.columns"
   ]
  },
  {
   "cell_type": "code",
   "execution_count": 7,
   "id": "c37ecf66",
   "metadata": {},
   "outputs": [
    {
     "name": "stdout",
     "output_type": "stream",
     "text": [
      "card_id                  0\n",
      "disp_id                  0\n",
      "type                     0\n",
      "issued                   0\n",
      "account_id               0\n",
      "disposition_client_id    0\n",
      "disposition_type         0\n",
      "client_id                0\n",
      "birth_number             0\n",
      "district_id              0\n",
      "A1                       0\n",
      "A2                       0\n",
      "A3                       0\n",
      "A4                       0\n",
      "A5                       0\n",
      "A6                       0\n",
      "A7                       0\n",
      "A8                       0\n",
      "A9                       0\n",
      "A10                      0\n",
      "A11                      0\n",
      "A12                      0\n",
      "A13                      0\n",
      "A14                      0\n",
      "A15                      0\n",
      "A16                      0\n",
      "order_id                 0\n",
      "bank_to                  0\n",
      "account_to               0\n",
      "amount                   0\n",
      "k_symbol                 0\n",
      "account_date             0\n",
      "account_district_id      0\n",
      "frequency                0\n",
      "trans_id                 0\n",
      "account_id               0\n",
      "date                     0\n",
      "type                     0\n",
      "operation                0\n",
      "amount                   0\n",
      "balance                  0\n",
      "k_symbol                 0\n",
      "bank                     0\n",
      "account                  0\n",
      "loan_id                  0\n",
      "loan_date                0\n",
      "loan_amount              0\n",
      "duration                 0\n",
      "payments                 0\n",
      "status                   0\n",
      "dtype: int64\n"
     ]
    }
   ],
   "source": [
    "print (df.isnull().sum())  "
   ]
  },
  {
   "cell_type": "code",
   "execution_count": 8,
   "id": "53633fd0",
   "metadata": {},
   "outputs": [
    {
     "data": {
      "text/plain": [
       "array(['A', 'B', 'D', 'C'], dtype=object)"
      ]
     },
     "metadata": {},
     "output_type": "display_data"
    }
   ],
   "source": [
    "display (df.status.unique())"
   ]
  },
  {
   "cell_type": "code",
   "execution_count": 9,
   "id": "d64298ad",
   "metadata": {},
   "outputs": [
    {
     "data": {
      "text/plain": [
       "A    648\n",
       "B    168\n",
       "C     51\n",
       "D      1\n",
       "Name: status, dtype: int64"
      ]
     },
     "metadata": {},
     "output_type": "display_data"
    }
   ],
   "source": [
    "display (df.status.value_counts())"
   ]
  },
  {
   "cell_type": "code",
   "execution_count": 10,
   "id": "3819193e",
   "metadata": {},
   "outputs": [
    {
     "data": {
      "text/plain": [
       "0      0\n",
       "1      0\n",
       "2      0\n",
       "3      0\n",
       "4      0\n",
       "      ..\n",
       "863    0\n",
       "864    0\n",
       "865    0\n",
       "866    0\n",
       "867    0\n",
       "Name: status, Length: 868, dtype: int64"
      ]
     },
     "metadata": {},
     "output_type": "display_data"
    }
   ],
   "source": [
    "df.status=pd.DataFrame(df.status.map({'A':0,'B':1,'C':2,'D':3}),\n",
    "columns=['status'])\n",
    "display (df.status)\n"
   ]
  },
  {
   "cell_type": "code",
   "execution_count": 11,
   "id": "37dcc986",
   "metadata": {},
   "outputs": [
    {
     "data": {
      "text/plain": [
       "0    648\n",
       "1    168\n",
       "2     51\n",
       "3      1\n",
       "Name: status, dtype: int64"
      ]
     },
     "metadata": {},
     "output_type": "display_data"
    }
   ],
   "source": [
    "display (df.status.value_counts())"
   ]
  },
  {
   "cell_type": "code",
   "execution_count": 12,
   "id": "05bab0f0",
   "metadata": {},
   "outputs": [
    {
     "data": {
      "text/plain": [
       "array([[1.05804e+05, 3.60000e+01, 2.93900e+03],\n",
       "       [1.05804e+05, 3.60000e+01, 2.93900e+03],\n",
       "       [1.05804e+05, 3.60000e+01, 2.93900e+03],\n",
       "       ...,\n",
       "       [8.03400e+04, 1.20000e+01, 6.69500e+03],\n",
       "       [8.03400e+04, 1.20000e+01, 6.69500e+03],\n",
       "       [2.82480e+04, 2.40000e+01, 1.17700e+03]])"
      ]
     },
     "metadata": {},
     "output_type": "display_data"
    }
   ],
   "source": [
    "x=df[['loan_amount','duration','payments']].values\n",
    "display(x)\n"
   ]
  },
  {
   "cell_type": "code",
   "execution_count": 13,
   "id": "e7fe556e",
   "metadata": {},
   "outputs": [
    {
     "data": {
      "text/plain": [
       "array([0, 0, 0, 0, 0, 0, 0, 0, 0, 0, 0, 0, 0, 0, 0, 0, 0, 0, 0, 0, 0, 0,\n",
       "       0, 0, 0, 0, 0, 0, 0, 0, 0, 0, 0, 0, 0, 0, 0, 0, 0, 0, 0, 0, 0, 0,\n",
       "       0, 0, 0, 0, 0, 0, 0, 0, 0, 0, 0, 0, 0, 0, 0, 0, 0, 0, 0, 0, 0, 0,\n",
       "       0, 0, 0, 0, 0, 0, 0, 0, 0, 0, 0, 0, 0, 0, 0, 0, 0, 0, 0, 0, 0, 0,\n",
       "       0, 0, 0, 0, 0, 0, 0, 0, 0, 0, 0, 0, 1, 1, 1, 1, 1, 1, 1, 1, 0, 0,\n",
       "       3, 0, 0, 0, 0, 0, 0, 0, 0, 0, 0, 0, 0, 0, 0, 0, 0, 0, 0, 0, 0, 0,\n",
       "       0, 0, 0, 0, 0, 0, 0, 0, 0, 0, 0, 0, 0, 0, 0, 0, 0, 0, 0, 0, 0, 0,\n",
       "       0, 0, 0, 0, 0, 0, 0, 0, 0, 0, 0, 0, 0, 0, 0, 0, 0, 0, 0, 0, 0, 0,\n",
       "       0, 0, 0, 0, 0, 0, 0, 0, 0, 0, 0, 0, 0, 0, 0, 0, 0, 0, 0, 0, 0, 0,\n",
       "       0, 0, 0, 0, 0, 0, 0, 0, 0, 0, 0, 0, 0, 0, 0, 0, 0, 0, 0, 0, 0, 0,\n",
       "       0, 0, 0, 0, 0, 0, 0, 0, 0, 0, 0, 0, 0, 0, 0, 0, 0, 0, 0, 2, 2, 2,\n",
       "       2, 2, 2, 2, 2, 2, 2, 2, 2, 2, 2, 2, 2, 2, 2, 2, 2, 2, 2, 2, 2, 2,\n",
       "       2, 2, 0, 0, 0, 0, 0, 0, 0, 0, 0, 0, 0, 0, 0, 0, 0, 0, 0, 0, 0, 0,\n",
       "       0, 0, 0, 0, 0, 0, 0, 0, 0, 0, 0, 0, 0, 0, 0, 0, 0, 0, 0, 0, 0, 0,\n",
       "       0, 0, 0, 0, 0, 0, 0, 2, 2, 2, 0, 0, 0, 0, 0, 0, 0, 0, 0, 0, 0, 0,\n",
       "       0, 0, 0, 0, 0, 0, 0, 0, 0, 0, 0, 0, 0, 0, 0, 0, 0, 0, 0, 0, 0, 0,\n",
       "       0, 0, 0, 0, 0, 0, 0, 0, 0, 0, 0, 0, 0, 0, 0, 0, 0, 0, 0, 0, 0, 0,\n",
       "       0, 0, 0, 0, 0, 0, 0, 0, 0, 0, 0, 0, 0, 0, 0, 0, 0, 0, 0, 0, 0, 0,\n",
       "       0, 0, 0, 0, 0, 0, 0, 0, 0, 0, 0, 0, 0, 0, 0, 0, 0, 0, 0, 0, 0, 0,\n",
       "       0, 0, 0, 0, 0, 0, 0, 0, 0, 0, 0, 0, 0, 0, 0, 0, 0, 0, 0, 0, 0, 0,\n",
       "       0, 0, 0, 0, 0, 0, 0, 0, 0, 0, 0, 0, 0, 0, 0, 0, 0, 0, 0, 0, 0, 0,\n",
       "       0, 0, 0, 0, 0, 0, 0, 0, 0, 0, 0, 0, 0, 0, 0, 0, 0, 0, 0, 0, 0, 0,\n",
       "       0, 0, 0, 0, 0, 0, 0, 0, 0, 0, 0, 0, 0, 0, 0, 0, 0, 0, 0, 0, 0, 0,\n",
       "       0, 0, 0, 0, 0, 0, 0, 0, 0, 0, 0, 0, 0, 0, 0, 0, 0, 0, 0, 0, 0, 0,\n",
       "       0, 0, 0, 0, 0, 0, 0, 0, 0, 0, 0, 0, 0, 0, 0, 0, 0, 0, 0, 0, 0, 0,\n",
       "       0, 0, 0, 0, 0, 0, 0, 0, 0, 0, 0, 0, 0, 0, 0, 0, 0, 0, 0, 0, 0, 0,\n",
       "       0, 0, 0, 0, 0, 0, 0, 0, 0, 0, 0, 0, 0, 0, 0, 0, 0, 0, 0, 0, 0, 0,\n",
       "       0, 0, 0, 0, 0, 0, 0, 0, 0, 0, 0, 0, 0, 0, 0, 0, 0, 0, 0, 1, 1, 1,\n",
       "       1, 1, 1, 1, 1, 1, 1, 1, 1, 1, 1, 1, 1, 1, 1, 1, 1, 1, 1, 1, 1, 1,\n",
       "       1, 1, 1, 1, 1, 1, 1, 1, 1, 1, 1, 1, 1, 1, 1, 1, 1, 1, 1, 1, 1, 1,\n",
       "       1, 1, 1, 1, 1, 1, 1, 1, 1, 1, 1, 1, 1, 1, 1, 1, 1, 1, 1, 1, 1, 1,\n",
       "       1, 1, 1, 1, 1, 1, 1, 1, 1, 1, 1, 1, 1, 1, 1, 1, 1, 1, 1, 1, 1, 1,\n",
       "       1, 1, 1, 1, 1, 1, 1, 1, 1, 1, 1, 1, 1, 1, 1, 1, 1, 1, 1, 1, 1, 1,\n",
       "       1, 1, 1, 1, 1, 1, 1, 1, 1, 1, 1, 1, 1, 1, 1, 1, 1, 1, 1, 1, 1, 1,\n",
       "       1, 1, 1, 1, 1, 1, 1, 1, 1, 1, 1, 1, 1, 1, 1, 1, 1, 1, 1, 1, 1, 1,\n",
       "       1, 1, 1, 0, 0, 0, 0, 0, 0, 0, 0, 0, 0, 0, 0, 0, 0, 0, 0, 0, 0, 0,\n",
       "       0, 0, 0, 0, 0, 0, 0, 0, 0, 0, 0, 0, 0, 0, 0, 0, 0, 0, 0, 0, 0, 0,\n",
       "       0, 0, 0, 0, 0, 0, 0, 0, 0, 0, 0, 0, 0, 0, 0, 0, 0, 2, 2, 2, 2, 2,\n",
       "       2, 2, 2, 2, 2, 2, 2, 2, 2, 2, 2, 2, 2, 2, 2, 2, 0, 0, 0, 0, 0, 0,\n",
       "       0, 0, 0, 0, 0, 0, 0, 0, 0, 0], dtype=int64)"
      ]
     },
     "metadata": {},
     "output_type": "display_data"
    }
   ],
   "source": [
    "y=df['status'].values\n",
    "display (y)\n"
   ]
  },
  {
   "cell_type": "code",
   "execution_count": 14,
   "id": "e987a7b8",
   "metadata": {},
   "outputs": [
    {
     "name": "stdout",
     "output_type": "stream",
     "text": [
      "[[0.28768316 0.5        0.28866317]\n",
      " [0.28768316 0.5        0.28866317]\n",
      " [0.28768316 0.5        0.28866317]\n",
      " ...\n",
      " [0.20733785 0.         0.90399738]\n",
      " [0.20733785 0.         0.90399738]\n",
      " [0.04297452 0.25       0.        ]]\n"
     ]
    }
   ],
   "source": [
    "from sklearn.preprocessing import MinMaxScaler\n",
    "sc_x= MinMaxScaler()\n",
    "x = sc_x.fit_transform(x)\n",
    "print (x)\n"
   ]
  },
  {
   "cell_type": "code",
   "execution_count": 15,
   "id": "8a75effb",
   "metadata": {},
   "outputs": [
    {
     "data": {
      "text/plain": [
       "(607, 3)"
      ]
     },
     "metadata": {},
     "output_type": "display_data"
    },
    {
     "data": {
      "text/plain": [
       "(261, 3)"
      ]
     },
     "metadata": {},
     "output_type": "display_data"
    },
    {
     "data": {
      "text/plain": [
       "(607,)"
      ]
     },
     "metadata": {},
     "output_type": "display_data"
    },
    {
     "data": {
      "text/plain": [
       "(261,)"
      ]
     },
     "metadata": {},
     "output_type": "display_data"
    }
   ],
   "source": [
    "from sklearn.model_selection import train_test_split\n",
    "x_train,x_test,y_train,y_test=train_test_split(x,y,test_size=0.3,random_state=143)\n",
    "display (x_train.shape)\n",
    "display (x_test.shape)\n",
    "display (y_train.shape)\n",
    "display (y_test.shape)\n"
   ]
  },
  {
   "cell_type": "code",
   "execution_count": 16,
   "id": "6b56a3d5",
   "metadata": {},
   "outputs": [],
   "source": [
    "accuracy=[]\n",
    "for i in range(1,15):\n",
    "    knn=KNeighborsClassifier(n_neighbors=i)\n",
    "    knn=knn.fit(x_train,y_train)\n",
    "    y_pred =knn.predict(x_train)\n",
    "    acc= accuracy_score (y_train,y_pred)\n",
    "    accuracy.append (acc)\n"
   ]
  },
  {
   "cell_type": "code",
   "execution_count": 17,
   "id": "a70562b0",
   "metadata": {},
   "outputs": [
    {
     "data": {
      "text/plain": [
       "[1.0,\n",
       " 1.0,\n",
       " 1.0,\n",
       " 0.9967051070840197,\n",
       " 0.9934102141680395,\n",
       " 0.9884678747940692,\n",
       " 0.9884678747940692,\n",
       " 0.9884678747940692,\n",
       " 0.9884678747940692,\n",
       " 0.9884678747940692,\n",
       " 0.9884678747940692,\n",
       " 0.9884678747940692,\n",
       " 0.9884678747940692,\n",
       " 0.9884678747940692]"
      ]
     },
     "metadata": {},
     "output_type": "display_data"
    }
   ],
   "source": [
    "display (accuracy)"
   ]
  },
  {
   "cell_type": "code",
   "execution_count": 18,
   "id": "8804aa50",
   "metadata": {},
   "outputs": [
    {
     "data": {
      "image/png": "[encoded data removed]",
      "text/plain": [
       "<Figure size 2000x1000 with 1 Axes>"
      ]
     },
     "metadata": {},
     "output_type": "display_data"
    }
   ],
   "source": [
    "plt.plot(range(1,15),accuracy)\n",
    "plt.show()\n"
   ]
  },
  {
   "cell_type": "code",
   "execution_count": 19,
   "id": "e7252b40",
   "metadata": {},
   "outputs": [],
   "source": [
    "knn=KNeighborsClassifier(n_neighbors=3)\n",
    "knn=knn.fit(x_train,y_train)\n"
   ]
  },
  {
   "cell_type": "code",
   "execution_count": 20,
   "id": "ac2d3932",
   "metadata": {},
   "outputs": [
    {
     "data": {
      "text/plain": [
       "0.9961685823754789"
      ]
     },
     "metadata": {},
     "output_type": "display_data"
    }
   ],
   "source": [
    "y_pred = knn.predict (x_test)\n",
    "display (accuracy_score(y_pred , y_test))\n"
   ]
  },
  {
   "cell_type": "code",
   "execution_count": 21,
   "id": "055e8f7f",
   "metadata": {},
   "outputs": [
    {
     "data": {
      "text/plain": [
       "0.9731800766283525"
      ]
     },
     "metadata": {},
     "output_type": "display_data"
    }
   ],
   "source": [
    "\n",
    "knn=KNeighborsClassifier(n_neighbors=10)\n",
    "knn=knn.fit(x_train,y_train)\n",
    "y_pred = knn.predict (x_test)\n",
    "display (accuracy_score(y_pred , y_test))\n"
   ]
  },
  {
   "cell_type": "code",
   "execution_count": 22,
   "id": "557f4f18",
   "metadata": {},
   "outputs": [
    {
     "name": "stdout",
     "output_type": "stream",
     "text": [
      "              precision    recall  f1-score   support\n",
      "\n",
      "           0       1.00      1.00      1.00       190\n",
      "           1       1.00      0.89      0.94        56\n",
      "           2       0.67      1.00      0.80        14\n",
      "           3       0.00      0.00      0.00         1\n",
      "\n",
      "    accuracy                           0.97       261\n",
      "   macro avg       0.67      0.72      0.69       261\n",
      "weighted avg       0.98      0.97      0.97       261\n",
      "\n"
     ]
    },
    {
     "name": "stderr",
     "output_type": "stream",
     "text": [
      "C:\\ProgramData\\Anaconda3\\lib\\site-packages\\sklearn\\metrics\\_classification.py:1318: UndefinedMetricWarning: Precision and F-score are ill-defined and being set to 0.0 in labels with no predicted samples. Use `zero_division` parameter to control this behavior.\n",
      "  _warn_prf(average, modifier, msg_start, len(result))\n",
      "C:\\ProgramData\\Anaconda3\\lib\\site-packages\\sklearn\\metrics\\_classification.py:1318: UndefinedMetricWarning: Precision and F-score are ill-defined and being set to 0.0 in labels with no predicted samples. Use `zero_division` parameter to control this behavior.\n",
      "  _warn_prf(average, modifier, msg_start, len(result))\n",
      "C:\\ProgramData\\Anaconda3\\lib\\site-packages\\sklearn\\metrics\\_classification.py:1318: UndefinedMetricWarning: Precision and F-score are ill-defined and being set to 0.0 in labels with no predicted samples. Use `zero_division` parameter to control this behavior.\n",
      "  _warn_prf(average, modifier, msg_start, len(result))\n"
     ]
    }
   ],
   "source": [
    "from sklearn.metrics import classification_report\n",
    "print(classification_report (y_test,y_pred))\n"
   ]
  },
  {
   "cell_type": "code",
   "execution_count": 23,
   "id": "2fc4e25b",
   "metadata": {},
   "outputs": [
    {
     "name": "stdout",
     "output_type": "stream",
     "text": [
      "[[190   0   0   0]\n",
      " [  0  50   6   0]\n",
      " [  0   0  14   0]\n",
      " [  0   0   1   0]]\n"
     ]
    }
   ],
   "source": [
    "from sklearn.metrics import confusion_matrix \n",
    "cm = confusion_matrix (y_test,y_pred)\n",
    "print (cm)\t\n"
   ]
  },
  {
   "cell_type": "code",
   "execution_count": 24,
   "id": "f0dd85c5",
   "metadata": {},
   "outputs": [
    {
     "name": "stdout",
     "output_type": "stream",
     "text": [
      "[0 0 1 1 1 1 2 0 1 0 0 0 1 0 0 1 0 0 0 1 0 0 0 1 0 2 0 0 1 0 0 0 0 0 0 0 1\n",
      " 1 0 1 0 0 2 0 0 1 2 0 0 0 0 0 0 1 1 0 1 0 0 0 0 0 0 2 1 1 0 0 0 0 2 0 0 0\n",
      " 0 0 0 0 2 0 2 1 0 1 0 2 0 0 1 2 0 1 1 1 0 0 0 0 0 0 0 0 0 0 0 0 0 0 1 0 0\n",
      " 0 1 0 0 0 0 1 0 0 0 0 0 2 1 0 0 1 0 0 0 0 0 0 0 1 0 0 0 0 0 0 0 0 0 0 0 0\n",
      " 0 0 0 0 0 0 0 0 0 0 0 0 0 2 0 0 0 1 0 0 0 1 1 0 0 0 0 1 1 0 0 0 0 0 0 1 0\n",
      " 0 0 1 2 1 1 0 0 0 0 0 0 0 0 0 1 0 0 0 1 0 0 0 0 0 0 0 1 0 0 0 1 0 0 1 2 0\n",
      " 1 0 1 0 0 1 1 0 1 0 0 0 1 0 1 0 0 0 0 0 0 0 1 0 1 0 0 0 0 0 2 0 0 0 1 0 0\n",
      " 1 0]\n",
      "     0\n",
      "0     \n",
      "0  190\n",
      "1   56\n",
      "2   15\n",
      "\n",
      " Accuracy Score\n",
      "0.9961685823754789\n",
      "\n",
      "Classification Report\n",
      "              precision    recall  f1-score   support\n",
      "\n",
      "           0       1.00      1.00      1.00       190\n",
      "           1       1.00      1.00      1.00        56\n",
      "           2       0.93      1.00      0.97        14\n",
      "           3       0.00      0.00      0.00         1\n",
      "\n",
      "    accuracy                           1.00       261\n",
      "   macro avg       0.73      0.75      0.74       261\n",
      "weighted avg       0.99      1.00      0.99       261\n",
      "\n",
      "Confusion Matrix\n",
      "[[190   0   0   0]\n",
      " [  0  56   0   0]\n",
      " [  0   0  14   0]\n",
      " [  0   0   1   0]]\n"
     ]
    },
    {
     "name": "stderr",
     "output_type": "stream",
     "text": [
      "C:\\ProgramData\\Anaconda3\\lib\\site-packages\\sklearn\\metrics\\_classification.py:1318: UndefinedMetricWarning: Precision and F-score are ill-defined and being set to 0.0 in labels with no predicted samples. Use `zero_division` parameter to control this behavior.\n",
      "  _warn_prf(average, modifier, msg_start, len(result))\n",
      "C:\\ProgramData\\Anaconda3\\lib\\site-packages\\sklearn\\metrics\\_classification.py:1318: UndefinedMetricWarning: Precision and F-score are ill-defined and being set to 0.0 in labels with no predicted samples. Use `zero_division` parameter to control this behavior.\n",
      "  _warn_prf(average, modifier, msg_start, len(result))\n",
      "C:\\ProgramData\\Anaconda3\\lib\\site-packages\\sklearn\\metrics\\_classification.py:1318: UndefinedMetricWarning: Precision and F-score are ill-defined and being set to 0.0 in labels with no predicted samples. Use `zero_division` parameter to control this behavior.\n",
      "  _warn_prf(average, modifier, msg_start, len(result))\n"
     ]
    }
   ],
   "source": [
    "\n",
    "from sklearn.tree import DecisionTreeClassifier\n",
    "TREE = DecisionTreeClassifier (criterion = 'entropy')\n",
    "TREE.fit(x_train,y_train)\n",
    "TREE_pred = TREE.predict(x_test)\n",
    "print (TREE_pred)\n",
    "print (pd.DataFrame(TREE_pred).groupby(0).agg({0:np.size}))\n",
    "print('\\n Accuracy Score')\n",
    "print (accuracy_score (y_test,TREE_pred))\n",
    "print('\\nClassification Report')\n",
    "print(classification_report (y_test,TREE_pred))\n",
    "print('Confusion Matrix')\n",
    "print (confusion_matrix (y_test,TREE_pred))\n",
    "\n"
   ]
  },
  {
   "cell_type": "code",
   "execution_count": 25,
   "id": "a627b31a",
   "metadata": {},
   "outputs": [
    {
     "name": "stdout",
     "output_type": "stream",
     "text": [
      "[0 0 1 1 1 1 2 0 1 0 0 0 1 0 0 1 0 0 0 1 0 0 0 1 0 2 0 0 1 0 0 0 0 0 0 0 1\n",
      " 1 0 1 0 0 2 0 0 1 2 0 0 0 0 0 0 1 1 0 1 0 0 0 0 0 0 2 1 1 0 0 0 0 2 0 0 0\n",
      " 0 0 0 0 2 0 2 1 0 1 0 2 0 0 1 1 0 1 1 1 0 0 0 0 0 0 0 0 0 0 0 0 0 0 1 0 0\n",
      " 0 1 0 0 0 0 1 0 0 0 0 0 2 1 0 0 1 0 0 0 0 0 0 0 1 0 0 0 0 0 0 0 0 0 0 0 0\n",
      " 0 0 0 0 0 0 0 0 0 0 0 0 0 2 0 0 0 1 0 0 0 1 1 0 0 0 0 1 1 0 0 0 0 0 0 1 0\n",
      " 0 0 1 2 1 1 0 0 0 0 0 0 0 0 0 1 0 0 0 1 0 0 0 0 0 0 0 1 0 0 0 1 0 0 1 2 0\n",
      " 1 0 1 0 0 1 1 0 1 0 0 0 1 0 1 0 0 0 0 0 0 0 1 0 1 0 0 0 0 0 2 0 0 0 1 0 0\n",
      " 1 0]\n",
      "     0\n",
      "0     \n",
      "0  190\n",
      "1   57\n",
      "2   14\n",
      "\n",
      " Accuracy Score\n",
      "0.9961685823754789\n",
      "\n",
      "Classification Report\n",
      "              precision    recall  f1-score   support\n",
      "\n",
      "           0       1.00      1.00      1.00       190\n",
      "           1       0.98      1.00      0.99        56\n",
      "           2       1.00      1.00      1.00        14\n",
      "           3       0.00      0.00      0.00         1\n",
      "\n",
      "    accuracy                           1.00       261\n",
      "   macro avg       0.75      0.75      0.75       261\n",
      "weighted avg       0.99      1.00      0.99       261\n",
      "\n",
      "Confusion Matrix\n",
      "[[190   0   0   0]\n",
      " [  0  56   0   0]\n",
      " [  0   0  14   0]\n",
      " [  0   1   0   0]]\n"
     ]
    },
    {
     "name": "stderr",
     "output_type": "stream",
     "text": [
      "C:\\ProgramData\\Anaconda3\\lib\\site-packages\\sklearn\\metrics\\_classification.py:1318: UndefinedMetricWarning: Precision and F-score are ill-defined and being set to 0.0 in labels with no predicted samples. Use `zero_division` parameter to control this behavior.\n",
      "  _warn_prf(average, modifier, msg_start, len(result))\n",
      "C:\\ProgramData\\Anaconda3\\lib\\site-packages\\sklearn\\metrics\\_classification.py:1318: UndefinedMetricWarning: Precision and F-score are ill-defined and being set to 0.0 in labels with no predicted samples. Use `zero_division` parameter to control this behavior.\n",
      "  _warn_prf(average, modifier, msg_start, len(result))\n",
      "C:\\ProgramData\\Anaconda3\\lib\\site-packages\\sklearn\\metrics\\_classification.py:1318: UndefinedMetricWarning: Precision and F-score are ill-defined and being set to 0.0 in labels with no predicted samples. Use `zero_division` parameter to control this behavior.\n",
      "  _warn_prf(average, modifier, msg_start, len(result))\n"
     ]
    }
   ],
   "source": [
    "from sklearn.tree import DecisionTreeClassifier\n",
    "TREE = DecisionTreeClassifier (criterion = 'gini')\n",
    "TREE.fit(x_train,y_train)\n",
    "TREE_pred = TREE.predict(x_test)\n",
    "print (TREE_pred)\n",
    "print (pd.DataFrame(TREE_pred).groupby(0).agg({0:np.size}))\n",
    "print('\\n Accuracy Score')\n",
    "print (accuracy_score (y_test,TREE_pred))\n",
    "print('\\nClassification Report')\n",
    "print(classification_report (y_test,TREE_pred))\n",
    "print('Confusion Matrix')\n",
    "print (confusion_matrix (y_test,TREE_pred))\n"
   ]
  },
  {
   "cell_type": "code",
   "execution_count": 26,
   "id": "e2fc38ee",
   "metadata": {},
   "outputs": [
    {
     "name": "stdout",
     "output_type": "stream",
     "text": [
      "[0 0 1 1 1 1 2 0 1 0 0 0 1 0 0 1 0 0 0 1 0 0 0 1 0 2 0 0 1 0 0 0 0 0 0 0 1\n",
      " 1 0 1 0 0 2 0 0 1 2 0 0 0 0 0 0 1 1 0 1 0 0 0 0 0 0 2 1 1 0 0 0 0 2 0 0 0\n",
      " 0 0 0 0 2 0 2 1 0 1 0 2 0 0 1 1 0 1 1 1 0 0 0 0 0 0 0 0 0 0 0 0 0 0 1 0 0\n",
      " 0 1 0 0 0 0 1 0 0 0 0 0 2 1 0 0 1 0 0 0 0 0 0 0 1 0 0 0 0 0 0 0 0 0 0 0 0\n",
      " 0 0 0 0 0 0 0 0 0 0 0 0 0 2 0 0 0 1 0 0 0 1 1 0 0 0 0 1 1 0 0 0 0 0 0 1 0\n",
      " 0 0 1 2 1 1 0 0 0 0 0 0 0 0 0 1 0 0 0 1 0 0 0 0 0 0 0 1 0 0 0 1 0 0 1 2 0\n",
      " 1 0 1 0 0 1 1 0 1 0 0 0 1 0 1 0 0 0 0 0 0 0 1 0 1 0 0 0 0 0 2 0 0 0 1 0 0\n",
      " 1 0]\n",
      "     0\n",
      "0     \n",
      "0  190\n",
      "1   57\n",
      "2   14\n",
      "\n",
      " Accuracy Score\n",
      "0.9961685823754789\n",
      "\n",
      "Classification Report\n",
      "              precision    recall  f1-score   support\n",
      "\n",
      "           0       1.00      1.00      1.00       190\n",
      "           1       0.98      1.00      0.99        56\n",
      "           2       1.00      1.00      1.00        14\n",
      "           3       0.00      0.00      0.00         1\n",
      "\n",
      "    accuracy                           1.00       261\n",
      "   macro avg       0.75      0.75      0.75       261\n",
      "weighted avg       0.99      1.00      0.99       261\n",
      "\n",
      "Confusion Matrix\n",
      "[[190   0   0   0]\n",
      " [  0  56   0   0]\n",
      " [  0   0  14   0]\n",
      " [  0   1   0   0]]\n"
     ]
    },
    {
     "name": "stderr",
     "output_type": "stream",
     "text": [
      "C:\\ProgramData\\Anaconda3\\lib\\site-packages\\sklearn\\metrics\\_classification.py:1318: UndefinedMetricWarning: Precision and F-score are ill-defined and being set to 0.0 in labels with no predicted samples. Use `zero_division` parameter to control this behavior.\n",
      "  _warn_prf(average, modifier, msg_start, len(result))\n",
      "C:\\ProgramData\\Anaconda3\\lib\\site-packages\\sklearn\\metrics\\_classification.py:1318: UndefinedMetricWarning: Precision and F-score are ill-defined and being set to 0.0 in labels with no predicted samples. Use `zero_division` parameter to control this behavior.\n",
      "  _warn_prf(average, modifier, msg_start, len(result))\n",
      "C:\\ProgramData\\Anaconda3\\lib\\site-packages\\sklearn\\metrics\\_classification.py:1318: UndefinedMetricWarning: Precision and F-score are ill-defined and being set to 0.0 in labels with no predicted samples. Use `zero_division` parameter to control this behavior.\n",
      "  _warn_prf(average, modifier, msg_start, len(result))\n"
     ]
    }
   ],
   "source": [
    "\n",
    "from sklearn.ensemble import RandomForestClassifier\n",
    "RF = RandomForestClassifier(n_estimators=50, criterion='entropy')\n",
    "RF.fit(x_train,y_train)\n",
    "RF_pred = RF.predict(x_test)\n",
    "print (RF_pred)\n",
    "print (pd.DataFrame(RF_pred).groupby(0).agg({0:np.size}))\n",
    "print('\\n Accuracy Score')\n",
    "print (accuracy_score (y_test,RF_pred))\n",
    "print('\\nClassification Report')\n",
    "print(classification_report (y_test,RF_pred))\n",
    "print('Confusion Matrix')\n",
    "print (confusion_matrix (y_test,RF_pred))\n",
    "\n"
   ]
  },
  {
   "cell_type": "code",
   "execution_count": 27,
   "id": "ebacab3e",
   "metadata": {},
   "outputs": [
    {
     "name": "stdout",
     "output_type": "stream",
     "text": [
      "[0 0 1 1 1 1 0 0 1 0 0 0 1 0 0 1 0 0 0 1 0 0 0 0 0 0 0 0 1 0 0 0 0 0 0 0 1\n",
      " 1 0 1 0 0 0 0 0 1 0 0 0 0 0 0 0 1 0 0 1 0 0 0 0 0 0 0 1 1 0 0 0 0 0 0 1 0\n",
      " 0 0 0 0 0 0 0 1 0 1 0 0 0 0 1 0 0 1 1 1 0 0 0 0 0 0 0 0 0 0 0 0 0 0 0 0 0\n",
      " 0 1 0 0 0 0 1 0 0 0 0 0 0 0 0 0 1 0 0 0 0 0 0 0 1 0 0 0 0 0 0 0 0 0 0 0 0\n",
      " 0 0 0 0 0 0 0 0 0 0 0 0 0 0 0 0 0 1 0 0 0 1 1 0 0 0 0 1 1 0 0 0 0 0 0 1 0\n",
      " 0 0 1 0 1 1 0 0 0 0 0 0 0 0 0 1 0 0 0 1 0 0 0 0 0 0 0 1 0 1 0 1 0 0 1 0 0\n",
      " 1 0 1 0 0 1 1 0 0 0 0 0 1 0 1 0 0 0 0 0 0 0 1 0 0 0 0 0 0 0 0 0 0 0 1 0 0\n",
      " 1 0]\n",
      "     0\n",
      "0     \n",
      "0  209\n",
      "1   52\n",
      "\n",
      " Accuracy Score\n",
      "0.9118773946360154\n",
      "\n",
      "Classification Report\n",
      "              precision    recall  f1-score   support\n",
      "\n",
      "           0       0.90      0.99      0.94       190\n",
      "           1       0.96      0.89      0.93        56\n",
      "           2       0.00      0.00      0.00        14\n",
      "           3       0.00      0.00      0.00         1\n",
      "\n",
      "    accuracy                           0.91       261\n",
      "   macro avg       0.47      0.47      0.47       261\n",
      "weighted avg       0.86      0.91      0.88       261\n",
      "\n",
      "Confusion Matrix\n",
      "[[188   2   0   0]\n",
      " [  6  50   0   0]\n",
      " [ 14   0   0   0]\n",
      " [  1   0   0   0]]\n"
     ]
    },
    {
     "name": "stderr",
     "output_type": "stream",
     "text": [
      "C:\\ProgramData\\Anaconda3\\lib\\site-packages\\sklearn\\metrics\\_classification.py:1318: UndefinedMetricWarning: Precision and F-score are ill-defined and being set to 0.0 in labels with no predicted samples. Use `zero_division` parameter to control this behavior.\n",
      "  _warn_prf(average, modifier, msg_start, len(result))\n",
      "C:\\ProgramData\\Anaconda3\\lib\\site-packages\\sklearn\\metrics\\_classification.py:1318: UndefinedMetricWarning: Precision and F-score are ill-defined and being set to 0.0 in labels with no predicted samples. Use `zero_division` parameter to control this behavior.\n",
      "  _warn_prf(average, modifier, msg_start, len(result))\n",
      "C:\\ProgramData\\Anaconda3\\lib\\site-packages\\sklearn\\metrics\\_classification.py:1318: UndefinedMetricWarning: Precision and F-score are ill-defined and being set to 0.0 in labels with no predicted samples. Use `zero_division` parameter to control this behavior.\n",
      "  _warn_prf(average, modifier, msg_start, len(result))\n"
     ]
    }
   ],
   "source": [
    "\n",
    "from sklearn.linear_model import LogisticRegression\n",
    "logmodel = LogisticRegression()\n",
    "logmodel.fit(x_train, y_train)\n",
    "log_pred = logmodel.predict(x_test)\n",
    "print (log_pred)\n",
    "print (pd.DataFrame(log_pred).groupby(0).agg({0: np.size}))\n",
    "print('\\n Accuracy Score')\n",
    "print (accuracy_score (y_test,log_pred))\n",
    "print('\\nClassification Report')\n",
    "print(classification_report (y_test,log_pred))\n",
    "print('Confusion Matrix')\n",
    "print (confusion_matrix (y_test,log_pred))"
   ]
  },
  {
   "cell_type": "code",
   "execution_count": null,
   "id": "34d58a49",
   "metadata": {},
   "outputs": [],
   "source": []
  },
  {
   "cell_type": "code",
   "execution_count": null,
   "id": "9d60c1e4",
   "metadata": {},
   "outputs": [],
   "source": []
  },
  {
   "cell_type": "code",
   "execution_count": null,
   "id": "09b8c617",
   "metadata": {},
   "outputs": [],
   "source": []
  },
  {
   "cell_type": "code",
   "execution_count": null,
   "id": "9f985339",
   "metadata": {},
   "outputs": [],
   "source": []
  }
 ],
 "metadata": {
  "kernelspec": {
   "display_name": "Python 3 (ipykernel)",
   "language": "python",
   "name": "python3"
  },
  "language_info": {
   "codemirror_mode": {
    "name": "ipython",
    "version": 3
   },
   "file_extension": ".py",
   "mimetype": "text/x-python",
   "name": "python",
   "nbconvert_exporter": "python",
   "pygments_lexer": "ipython3",
   "version": "3.9.15"
  }
 },
 "nbformat": 4,
 "nbformat_minor": 5
}
